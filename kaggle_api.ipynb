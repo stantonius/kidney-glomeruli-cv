{
 "cells": [
  {
   "cell_type": "code",
   "execution_count": 1,
   "id": "a4a57272",
   "metadata": {},
   "outputs": [],
   "source": [
    "#!pip install jedi==0.17.2\n",
    "#! conda install -c conda-forge kaggle"
   ]
  },
  {
   "cell_type": "code",
   "execution_count": 1,
   "id": "528594c1",
   "metadata": {},
   "outputs": [],
   "source": [
    "from kaggle.api.kaggle_api_extended import KaggleApi\n",
    "from pathlib import Path\n",
    "import json"
   ]
  },
  {
   "cell_type": "code",
   "execution_count": 2,
   "id": "d9bd8346",
   "metadata": {},
   "outputs": [],
   "source": [
    "api = KaggleApi()"
   ]
  },
  {
   "cell_type": "code",
   "execution_count": 3,
   "id": "7fdd23cd",
   "metadata": {},
   "outputs": [],
   "source": [
    "api.authenticate()"
   ]
  },
  {
   "cell_type": "code",
   "execution_count": 18,
   "id": "e2633ba8",
   "metadata": {},
   "outputs": [],
   "source": [
    "!mkdir to_upload"
   ]
  },
  {
   "cell_type": "code",
   "execution_count": 22,
   "id": "1a0337e3",
   "metadata": {},
   "outputs": [
    {
     "name": "stdout",
     "output_type": "stream",
     "text": [
      "        1 file(s) moved.\n"
     ]
    }
   ],
   "source": [
    "!move .\\\\models\\\\baseline_model.pkl.pth .\\\\to_upload/"
   ]
  },
  {
   "cell_type": "code",
   "execution_count": 23,
   "id": "0e14e0e6",
   "metadata": {},
   "outputs": [],
   "source": [
    "# path = Path(\"./smaller\")\n",
    "path = Path(\"./to_upload/\")"
   ]
  },
  {
   "cell_type": "code",
   "execution_count": 1,
   "id": "7dcc53eb",
   "metadata": {},
   "outputs": [
    {
     "ename": "NameError",
     "evalue": "name 'api' is not defined",
     "output_type": "error",
     "traceback": [
      "\u001b[1;31m---------------------------------------------------------------------------\u001b[0m",
      "\u001b[1;31mNameError\u001b[0m                                 Traceback (most recent call last)",
      "\u001b[1;32m<ipython-input-1-0a5265c60485>\u001b[0m in \u001b[0;36m<module>\u001b[1;34m\u001b[0m\n\u001b[1;32m----> 1\u001b[1;33m \u001b[0mapi\u001b[0m\u001b[1;33m.\u001b[0m\u001b[0mdataset_initialize\u001b[0m\u001b[1;33m(\u001b[0m\u001b[0mpath\u001b[0m\u001b[1;33m)\u001b[0m\u001b[1;33m\u001b[0m\u001b[1;33m\u001b[0m\u001b[0m\n\u001b[0m",
      "\u001b[1;31mNameError\u001b[0m: name 'api' is not defined"
     ]
    }
   ],
   "source": [
    "api.dataset_initialize(path)"
   ]
  },
  {
   "cell_type": "code",
   "execution_count": 25,
   "id": "5a1ecc73",
   "metadata": {},
   "outputs": [],
   "source": [
    "with open(path/\"dataset-metadata.json\") as md:\n",
    "    data = json.load(md)"
   ]
  },
  {
   "cell_type": "code",
   "execution_count": 26,
   "id": "a04e430e",
   "metadata": {},
   "outputs": [
    {
     "data": {
      "text/plain": [
       "{'title': 'INSERT_TITLE_HERE',\n",
       " 'id': 'canadarmy/INSERT_SLUG_HERE',\n",
       " 'licenses': [{'name': 'CC0-1.0'}]}"
      ]
     },
     "execution_count": 26,
     "metadata": {},
     "output_type": "execute_result"
    }
   ],
   "source": [
    "data"
   ]
  },
  {
   "cell_type": "code",
   "execution_count": 27,
   "id": "bcbac04d",
   "metadata": {},
   "outputs": [],
   "source": [
    "data[\"title\"] = \"baseline model for testing\""
   ]
  },
  {
   "cell_type": "code",
   "execution_count": 28,
   "id": "21c7596f",
   "metadata": {},
   "outputs": [],
   "source": [
    "data[\"id\"] = \"canadarmy/baseline-test-model\""
   ]
  },
  {
   "cell_type": "code",
   "execution_count": 29,
   "id": "317992d8",
   "metadata": {},
   "outputs": [],
   "source": [
    "with open(path/\"dataset-metadata.json\", 'w') as outfile:\n",
    "    json.dump(data, outfile)"
   ]
  },
  {
   "cell_type": "code",
   "execution_count": 30,
   "id": "fbaebcb1",
   "metadata": {},
   "outputs": [
    {
     "data": {
      "text/plain": [
       "{'title': 'baseline model for testing',\n",
       " 'id': 'canadarmy/baseline-test-model',\n",
       " 'licenses': [{'name': 'CC0-1.0'}]}"
      ]
     },
     "execution_count": 30,
     "metadata": {},
     "output_type": "execute_result"
    }
   ],
   "source": [
    "data"
   ]
  },
  {
   "cell_type": "code",
   "execution_count": 16,
   "id": "0a951b6a",
   "metadata": {},
   "outputs": [
    {
     "name": "stderr",
     "output_type": "stream",
     "text": [
      "'ls' is not recognized as an internal or external command,\n",
      "operable program or batch file.\n"
     ]
    }
   ],
   "source": [
    "!ls -la"
   ]
  },
  {
   "cell_type": "code",
   "execution_count": 31,
   "id": "57a052fe",
   "metadata": {},
   "outputs": [
    {
     "name": "stderr",
     "output_type": "stream",
     "text": [
      "  0%|                                                                                       | 0.00/310M [00:00<?, ?B/s]"
     ]
    },
    {
     "name": "stdout",
     "output_type": "stream",
     "text": [
      "Starting upload for file baseline_model.pkl.pth\n",
      "Warning: Looks like you're using an outdated API Version, please consider updating (server 1.5.12 / client 1.5.10)\n"
     ]
    },
    {
     "name": "stderr",
     "output_type": "stream",
     "text": [
      "100%|███████████████████████████████████████████████████████████████████████████████| 310M/310M [04:22<00:00, 1.24MB/s]\n"
     ]
    },
    {
     "name": "stdout",
     "output_type": "stream",
     "text": [
      "Upload successful: baseline_model.pkl.pth (310MB)\n"
     ]
    },
    {
     "data": {
      "text/plain": [
       "https://www.kaggle.com/canadarmy/baseline-test-model"
      ]
     },
     "execution_count": 31,
     "metadata": {},
     "output_type": "execute_result"
    }
   ],
   "source": [
    "api.dataset_create_new(path, dir_mode=\"zip\")"
   ]
  },
  {
   "cell_type": "code",
   "execution_count": null,
   "id": "2e2dd214",
   "metadata": {},
   "outputs": [],
   "source": []
  }
 ],
 "metadata": {
  "kernelspec": {
   "display_name": "Python [conda env:kidneys-cv] *",
   "language": "python",
   "name": "conda-env-kidneys-cv-py"
  },
  "language_info": {
   "codemirror_mode": {
    "name": "ipython",
    "version": 3
   },
   "file_extension": ".py",
   "mimetype": "text/x-python",
   "name": "python",
   "nbconvert_exporter": "python",
   "pygments_lexer": "ipython3",
   "version": "3.7.9"
  }
 },
 "nbformat": 4,
 "nbformat_minor": 5
}
