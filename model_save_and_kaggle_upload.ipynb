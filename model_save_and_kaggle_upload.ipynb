{
 "cells": [
  {
   "cell_type": "code",
   "execution_count": null,
   "id": "incorrect-springfield",
   "metadata": {},
   "outputs": [],
   "source": [
    "# First, import PyTorch\n",
    "import torch\n",
    "import torchvision\n",
    "from torch.utils.data import Dataset, DataLoader\n",
    "import torch.nn as nn\n",
    "import torch.nn.functional as F\n",
    "\n",
    "# Check PyTorch version\n",
    "torch.__version__\n",
    "torch.cuda.is_available()"
   ]
  },
  {
   "cell_type": "code",
   "execution_count": null,
   "id": "confused-binary",
   "metadata": {},
   "outputs": [],
   "source": [
    "import pandas as pd\n",
    "import numpy as np\n",
    "import pytorch_lightning as pl\n",
    "from pytorch_lightning.callbacks import Callback, ModelCheckpoint\n",
    "\n",
    "# prebuilt models\n",
    "# from pl_bolts.models import UNet\n",
    "\n",
    "import tensorboard as tb\n",
    "\n",
    "# Need to put kaggle.json in /%USERS%/.kaggle folder (C:/Users/Craig/.kaggle)\n",
    "try:\n",
    "    import kaggle\n",
    "except:\n",
    "    !echo '{\"username\":\"canadarmy\",\"key\": KAGGLEKEY}' > ~/.kaggle/kaggle.json\n",
    "    import kaggle\n",
    "\n",
    "from pathlib import Path\n",
    "import random\n",
    "import os\n",
    "import shutil\n",
    "from typing import Union\n",
    "\n",
    "# Read tiff images\n",
    "import tifffile\n",
    "import cv2\n",
    "from tqdm import tqdm\n",
    "import torchio as tio\n",
    "\n",
    "from PIL import Image\n",
    "from IPython.display import display\n",
    "\n",
    "import time\n",
    "import wandb\n",
    "import arrow\n",
    "\n",
    "from tqdm import tqdm\n",
    "\n",
    "\n",
    "import matplotlib.pyplot as plt\n",
    "\n",
    "# Memory management tools\n",
    "import gc\n",
    "\n",
    "import timm\n",
    "\n",
    "from fastprogress.fastprogress import master_bar, progress_bar\n",
    "\n",
    "from fastai.vision.all import *\n",
    "from fastai.imports import *\n",
    "from fastai.callback.wandb import *\n",
    "from fastai.metrics import Dice, Jaccard, JaccardCoeff\n",
    "\n",
    "import pickle5 as pickle"
   ]
  },
  {
   "cell_type": "code",
   "execution_count": null,
   "id": "sunset-customs",
   "metadata": {},
   "outputs": [],
   "source": [
    "xx = torch.load(\"./models/BASELINE_0.06-0.128.pth\")"
   ]
  },
  {
   "cell_type": "code",
   "execution_count": null,
   "id": "tender-silence",
   "metadata": {},
   "outputs": [],
   "source": [
    "from kaggle.api.kaggle_api_extended import KaggleApi\n",
    "from pathlib import Path\n",
    "import json"
   ]
  },
  {
   "cell_type": "code",
   "execution_count": null,
   "id": "still-arrival",
   "metadata": {},
   "outputs": [],
   "source": [
    "api = KaggleApi()"
   ]
  },
  {
   "cell_type": "code",
   "execution_count": null,
   "id": "cathedral-collect",
   "metadata": {},
   "outputs": [],
   "source": [
    "api.authenticate()"
   ]
  },
  {
   "cell_type": "code",
   "execution_count": null,
   "id": "hollow-internship",
   "metadata": {},
   "outputs": [],
   "source": [
    "api.dataset_list()"
   ]
  },
  {
   "cell_type": "code",
   "execution_count": null,
   "id": "directed-island",
   "metadata": {},
   "outputs": [],
   "source": [
    "!mkdir to_upload"
   ]
  },
  {
   "cell_type": "code",
   "execution_count": null,
   "id": "raised-association",
   "metadata": {},
   "outputs": [],
   "source": [
    "!mv ./models/test_export.pkl ./to_upload/"
   ]
  },
  {
   "cell_type": "code",
   "execution_count": null,
   "id": "promotional-investor",
   "metadata": {},
   "outputs": [],
   "source": [
    "# path = Path(\"./smaller\")\n",
    "path = Path(\"./to_upload/\")"
   ]
  },
  {
   "cell_type": "code",
   "execution_count": null,
   "id": "alone-cloud",
   "metadata": {},
   "outputs": [],
   "source": [
    "api.dataset_initialize(path)"
   ]
  },
  {
   "cell_type": "code",
   "execution_count": null,
   "id": "southwest-mongolia",
   "metadata": {},
   "outputs": [],
   "source": [
    "with open(path/\"dataset-metadata.json\") as md:\n",
    "    data = json.load(md)"
   ]
  },
  {
   "cell_type": "code",
   "execution_count": null,
   "id": "thick-karma",
   "metadata": {},
   "outputs": [],
   "source": [
    "data[\"title\"] = \"baseline model\""
   ]
  },
  {
   "cell_type": "code",
   "execution_count": null,
   "id": "civil-stretch",
   "metadata": {},
   "outputs": [],
   "source": [
    "data[\"id\"] = \"canadarmy/baseline-hubmaps-model\""
   ]
  },
  {
   "cell_type": "code",
   "execution_count": null,
   "id": "comic-cookie",
   "metadata": {},
   "outputs": [],
   "source": [
    "with open(path/\"dataset-metadata.json\", 'w') as outfile:\n",
    "    json.dump(data, outfile)"
   ]
  },
  {
   "cell_type": "code",
   "execution_count": null,
   "id": "developing-banks",
   "metadata": {},
   "outputs": [],
   "source": [
    "!rm -rf ./to_upload/.ipynb_checkpoints/"
   ]
  },
  {
   "cell_type": "code",
   "execution_count": null,
   "id": "distinguished-longer",
   "metadata": {},
   "outputs": [],
   "source": [
    "api.dataset_create_new(path, dir_mode=\"zip\")"
   ]
  },
  {
   "cell_type": "code",
   "execution_count": null,
   "id": "serial-hundred",
   "metadata": {},
   "outputs": [],
   "source": [
    "api.datasets_list(user=\"canadarmy\")"
   ]
  },
  {
   "cell_type": "code",
   "execution_count": null,
   "id": "nasty-mixture",
   "metadata": {},
   "outputs": [],
   "source": []
  }
 ],
 "metadata": {
  "environment": {
   "name": "common-cu101.m65",
   "type": "gcloud",
   "uri": "gcr.io/deeplearning-platform-release/base-cu101:m65"
  },
  "kernelspec": {
   "display_name": "Python [conda env:root] *",
   "language": "python",
   "name": "conda-root-py"
  },
  "language_info": {
   "codemirror_mode": {
    "name": "ipython",
    "version": 3
   },
   "file_extension": ".py",
   "mimetype": "text/x-python",
   "name": "python",
   "nbconvert_exporter": "python",
   "pygments_lexer": "ipython3",
   "version": "3.7.10"
  }
 },
 "nbformat": 4,
 "nbformat_minor": 5
}
